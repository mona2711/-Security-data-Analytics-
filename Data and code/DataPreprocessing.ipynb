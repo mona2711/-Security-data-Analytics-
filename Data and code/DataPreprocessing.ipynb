{
 "cells": [
  {
   "cell_type": "code",
   "execution_count": 34,
   "metadata": {},
   "outputs": [],
   "source": [
    "import pandas as pd\n",
    "import numpy as np\n",
    "import matplotlib.pyplot as plt"
   ]
  },
  {
   "cell_type": "code",
   "execution_count": 3,
   "metadata": {},
   "outputs": [],
   "source": [
    "def normalize(data):\n",
    "    \n",
    "    # [-1 1]  Data Normalization \n",
    "    \n",
    "    max_data,min_data = max(data),min(data)\n",
    "    norm_data = ((data-min_data)/(max_data-min_data))*2-1\n",
    "    return norm_data"
   ]
  },
  {
   "cell_type": "code",
   "execution_count": null,
   "metadata": {},
   "outputs": [],
   "source": []
  },
  {
   "cell_type": "code",
   "execution_count": 4,
   "metadata": {},
   "outputs": [],
   "source": [
    "file = pd.read_csv('parsed_file.csv',skiprows=1,names = ['Action Performed','Connection Classification','Priority','Date-Time','Source IP','Source Port','Destination IP','Destination Port','Protocol','TimeToLive','TypeOfService','ID','IP Length','DataGram Length', 'Frag Offset', 'Frag Size', 'Flag -2','Flag-1', 'Flag-U', 'Flag-A', 'Flag-P', 'Flag-R', 'Flag-S', 'Flag-F','All Flags','Seq', 'Ack', 'Win', 'TCP length', 'TCP Options', 'NOP NOP TS', 'MSS', 'NOP WS', 'SackOK TS'],low_memory=False)"
   ]
  },
  {
   "cell_type": "code",
   "execution_count": 5,
   "metadata": {},
   "outputs": [
    {
     "data": {
      "text/html": [
       "<div>\n",
       "<style scoped>\n",
       "    .dataframe tbody tr th:only-of-type {\n",
       "        vertical-align: middle;\n",
       "    }\n",
       "\n",
       "    .dataframe tbody tr th {\n",
       "        vertical-align: top;\n",
       "    }\n",
       "\n",
       "    .dataframe thead th {\n",
       "        text-align: right;\n",
       "    }\n",
       "</style>\n",
       "<table border=\"1\" class=\"dataframe\">\n",
       "  <thead>\n",
       "    <tr style=\"text-align: right;\">\n",
       "      <th></th>\n",
       "      <th>Action Performed</th>\n",
       "      <th>Connection Classification</th>\n",
       "      <th>Priority</th>\n",
       "      <th>Date-Time</th>\n",
       "      <th>Source IP</th>\n",
       "      <th>Source Port</th>\n",
       "      <th>Destination IP</th>\n",
       "      <th>Destination Port</th>\n",
       "      <th>Protocol</th>\n",
       "      <th>TimeToLive</th>\n",
       "      <th>...</th>\n",
       "      <th>All Flags</th>\n",
       "      <th>Seq</th>\n",
       "      <th>Ack</th>\n",
       "      <th>Win</th>\n",
       "      <th>TCP length</th>\n",
       "      <th>TCP Options</th>\n",
       "      <th>NOP NOP TS</th>\n",
       "      <th>MSS</th>\n",
       "      <th>NOP WS</th>\n",
       "      <th>SackOK TS</th>\n",
       "    </tr>\n",
       "  </thead>\n",
       "  <tbody>\n",
       "    <tr>\n",
       "      <th>25736</th>\n",
       "      <td>(http_inspect) ANOMALOUS HTTP SERVER ON UNDEF...</td>\n",
       "      <td></td>\n",
       "      <td>3</td>\n",
       "      <td>1573565467</td>\n",
       "      <td>134.240.18.13</td>\n",
       "      <td>8014</td>\n",
       "      <td>134.240.12.190</td>\n",
       "      <td>3100</td>\n",
       "      <td>TCP</td>\n",
       "      <td>127</td>\n",
       "      <td>...</td>\n",
       "      <td>***A****</td>\n",
       "      <td>0xC63A4598</td>\n",
       "      <td>0x9BFB1253</td>\n",
       "      <td>0xFC4E</td>\n",
       "      <td>20.0</td>\n",
       "      <td>NaN</td>\n",
       "      <td>NaN</td>\n",
       "      <td>NaN</td>\n",
       "      <td>NaN</td>\n",
       "      <td>NaN</td>\n",
       "    </tr>\n",
       "    <tr>\n",
       "      <th>25737</th>\n",
       "      <td>(http_inspect) ANOMALOUS HTTP SERVER ON UNDEF...</td>\n",
       "      <td></td>\n",
       "      <td>3</td>\n",
       "      <td>1573565468</td>\n",
       "      <td>134.240.18.13</td>\n",
       "      <td>8014</td>\n",
       "      <td>134.240.12.190</td>\n",
       "      <td>3101</td>\n",
       "      <td>TCP</td>\n",
       "      <td>127</td>\n",
       "      <td>...</td>\n",
       "      <td>***AP***</td>\n",
       "      <td>0x6885BC0B</td>\n",
       "      <td>0x60CE1819</td>\n",
       "      <td>0xFACF</td>\n",
       "      <td>20.0</td>\n",
       "      <td>NaN</td>\n",
       "      <td>NaN</td>\n",
       "      <td>NaN</td>\n",
       "      <td>NaN</td>\n",
       "      <td>NaN</td>\n",
       "    </tr>\n",
       "    <tr>\n",
       "      <th>25738</th>\n",
       "      <td>(http_inspect) ANOMALOUS HTTP SERVER ON UNDEF...</td>\n",
       "      <td></td>\n",
       "      <td>3</td>\n",
       "      <td>1573565468</td>\n",
       "      <td>134.240.18.13</td>\n",
       "      <td>8014</td>\n",
       "      <td>134.240.12.190</td>\n",
       "      <td>3102</td>\n",
       "      <td>TCP</td>\n",
       "      <td>127</td>\n",
       "      <td>...</td>\n",
       "      <td>***AP***</td>\n",
       "      <td>0xBA29554C</td>\n",
       "      <td>0x3FFEA106</td>\n",
       "      <td>0xFA64</td>\n",
       "      <td>20.0</td>\n",
       "      <td>NaN</td>\n",
       "      <td>NaN</td>\n",
       "      <td>NaN</td>\n",
       "      <td>NaN</td>\n",
       "      <td>NaN</td>\n",
       "    </tr>\n",
       "    <tr>\n",
       "      <th>25739</th>\n",
       "      <td>BAD-TRAFFIC IP Proto 103 PIM</td>\n",
       "      <td>Detection of a non-standard protocol or event</td>\n",
       "      <td>2</td>\n",
       "      <td>1573565496</td>\n",
       "      <td>134.240.12.254</td>\n",
       "      <td></td>\n",
       "      <td>224.0.0.13</td>\n",
       "      <td></td>\n",
       "      <td>PIM</td>\n",
       "      <td>1</td>\n",
       "      <td>...</td>\n",
       "      <td>NaN</td>\n",
       "      <td>NaN</td>\n",
       "      <td>NaN</td>\n",
       "      <td>NaN</td>\n",
       "      <td>NaN</td>\n",
       "      <td>NaN</td>\n",
       "      <td>NaN</td>\n",
       "      <td>NaN</td>\n",
       "      <td>NaN</td>\n",
       "      <td>NaN</td>\n",
       "    </tr>\n",
       "    <tr>\n",
       "      <th>25740</th>\n",
       "      <td>BAD-TRAFFIC IP Proto 103 PIM</td>\n",
       "      <td>Detection of a non-standard protocol or event</td>\n",
       "      <td>2</td>\n",
       "      <td>1573565525</td>\n",
       "      <td>134.240.12.254</td>\n",
       "      <td></td>\n",
       "      <td>224.0.0.13</td>\n",
       "      <td></td>\n",
       "      <td>PIM</td>\n",
       "      <td>1</td>\n",
       "      <td>...</td>\n",
       "      <td>NaN</td>\n",
       "      <td>NaN</td>\n",
       "      <td>NaN</td>\n",
       "      <td>NaN</td>\n",
       "      <td>NaN</td>\n",
       "      <td>NaN</td>\n",
       "      <td>NaN</td>\n",
       "      <td>NaN</td>\n",
       "      <td>NaN</td>\n",
       "      <td>NaN</td>\n",
       "    </tr>\n",
       "  </tbody>\n",
       "</table>\n",
       "<p>5 rows × 34 columns</p>\n",
       "</div>"
      ],
      "text/plain": [
       "                                        Action Performed  \\\n",
       "25736   (http_inspect) ANOMALOUS HTTP SERVER ON UNDEF...   \n",
       "25737   (http_inspect) ANOMALOUS HTTP SERVER ON UNDEF...   \n",
       "25738   (http_inspect) ANOMALOUS HTTP SERVER ON UNDEF...   \n",
       "25739                     BAD-TRAFFIC IP Proto 103 PIM     \n",
       "25740                     BAD-TRAFFIC IP Proto 103 PIM     \n",
       "\n",
       "                            Connection Classification  Priority   Date-Time  \\\n",
       "25736                                                         3  1573565467   \n",
       "25737                                                         3  1573565468   \n",
       "25738                                                         3  1573565468   \n",
       "25739  Detection of a non-standard protocol or event          2  1573565496   \n",
       "25740  Detection of a non-standard protocol or event          2  1573565525   \n",
       "\n",
       "            Source IP Source Port  Destination IP Destination Port Protocol  \\\n",
       "25736   134.240.18.13        8014  134.240.12.190             3100      TCP   \n",
       "25737   134.240.18.13        8014  134.240.12.190             3101      TCP   \n",
       "25738   134.240.18.13        8014  134.240.12.190             3102      TCP   \n",
       "25739  134.240.12.254                  224.0.0.13                       PIM   \n",
       "25740  134.240.12.254                  224.0.0.13                       PIM   \n",
       "\n",
       "       TimeToLive  ...  All Flags          Seq          Ack      Win  \\\n",
       "25736         127  ...  ***A****   0xC63A4598   0x9BFB1253   0xFC4E    \n",
       "25737         127  ...  ***AP***   0x6885BC0B   0x60CE1819   0xFACF    \n",
       "25738         127  ...  ***AP***   0xBA29554C   0x3FFEA106   0xFA64    \n",
       "25739           1  ...        NaN          NaN          NaN      NaN   \n",
       "25740           1  ...        NaN          NaN          NaN      NaN   \n",
       "\n",
       "      TCP length TCP Options NOP NOP TS  MSS NOP WS SackOK TS  \n",
       "25736       20.0         NaN        NaN  NaN    NaN       NaN  \n",
       "25737       20.0         NaN        NaN  NaN    NaN       NaN  \n",
       "25738       20.0         NaN        NaN  NaN    NaN       NaN  \n",
       "25739        NaN         NaN        NaN  NaN    NaN       NaN  \n",
       "25740        NaN         NaN        NaN  NaN    NaN       NaN  \n",
       "\n",
       "[5 rows x 34 columns]"
      ]
     },
     "execution_count": 5,
     "metadata": {},
     "output_type": "execute_result"
    }
   ],
   "source": [
    "file.tail()"
   ]
  },
  {
   "cell_type": "code",
   "execution_count": 5,
   "metadata": {},
   "outputs": [],
   "source": [
    "# Column-1 :Connection Class"
   ]
  },
  {
   "cell_type": "code",
   "execution_count": 6,
   "metadata": {},
   "outputs": [],
   "source": [
    "conn_class = np.ones(len(file),dtype=int)"
   ]
  },
  {
   "cell_type": "code",
   "execution_count": 7,
   "metadata": {},
   "outputs": [],
   "source": [
    "class0_ind = file.index[file['Connection Classification']==' '].tolist()"
   ]
  },
  {
   "cell_type": "code",
   "execution_count": 8,
   "metadata": {},
   "outputs": [],
   "source": [
    "conn_class[class0_ind]=0"
   ]
  },
  {
   "cell_type": "code",
   "execution_count": null,
   "metadata": {},
   "outputs": [],
   "source": []
  },
  {
   "cell_type": "code",
   "execution_count": 10,
   "metadata": {},
   "outputs": [],
   "source": [
    "# Column-2: Priority"
   ]
  },
  {
   "cell_type": "code",
   "execution_count": 11,
   "metadata": {},
   "outputs": [],
   "source": [
    "priority = file['Priority'].tolist()"
   ]
  },
  {
   "cell_type": "code",
   "execution_count": null,
   "metadata": {},
   "outputs": [],
   "source": []
  },
  {
   "cell_type": "code",
   "execution_count": 12,
   "metadata": {},
   "outputs": [],
   "source": [
    "# Column-3: Unix TimeStamp"
   ]
  },
  {
   "cell_type": "code",
   "execution_count": 13,
   "metadata": {},
   "outputs": [],
   "source": [
    "unix_time = np.array(file['Date-Time'],dtype=float)\n",
    "norm_timestamp = normalize(unix_time)"
   ]
  },
  {
   "cell_type": "code",
   "execution_count": null,
   "metadata": {},
   "outputs": [],
   "source": []
  },
  {
   "cell_type": "code",
   "execution_count": 14,
   "metadata": {},
   "outputs": [],
   "source": [
    "# Column-4: Source Port"
   ]
  },
  {
   "cell_type": "code",
   "execution_count": 15,
   "metadata": {},
   "outputs": [],
   "source": [
    "file.loc[file['Source Port']==' ','Source Port']=0\n",
    "src_port = np.array(file['Source Port'],dtype=float)\n",
    "norm_src_port = normalize(src_port)"
   ]
  },
  {
   "cell_type": "code",
   "execution_count": null,
   "metadata": {},
   "outputs": [],
   "source": []
  },
  {
   "cell_type": "code",
   "execution_count": 16,
   "metadata": {},
   "outputs": [],
   "source": [
    "# Column-5: Destination Port"
   ]
  },
  {
   "cell_type": "code",
   "execution_count": 17,
   "metadata": {},
   "outputs": [],
   "source": [
    "file.loc[file['Destination Port']==' ','Destination Port']=0\n",
    "dest_port = np.array(file['Destination Port'],dtype=float)\n",
    "norm_dest_port = normalize(dest_port)"
   ]
  },
  {
   "cell_type": "code",
   "execution_count": null,
   "metadata": {},
   "outputs": [],
   "source": []
  },
  {
   "cell_type": "code",
   "execution_count": 18,
   "metadata": {},
   "outputs": [],
   "source": [
    "# Column-6: Protocol"
   ]
  },
  {
   "cell_type": "code",
   "execution_count": 19,
   "metadata": {},
   "outputs": [],
   "source": [
    "tcp_ind = file.index[file['Protocol']=='TCP'].tolist()\n",
    "pim_ind = file.index[file['Protocol']=='PIM'].tolist()\n",
    "icmp_ind = file.index[file['Protocol']=='ICMP'].tolist()\n",
    "udp_ind = file.index[file['Protocol']=='UDP'].tolist()\n",
    "\n",
    "protocol = np.zeros(len(file),dtype=int)\n",
    "\n",
    "protocol[icmp_ind] = 1\n",
    "protocol[pim_ind] = 2\n",
    "protocol[tcp_ind] = 3\n",
    "protocol[udp_ind] = 4"
   ]
  },
  {
   "cell_type": "code",
   "execution_count": null,
   "metadata": {},
   "outputs": [],
   "source": []
  },
  {
   "cell_type": "code",
   "execution_count": 20,
   "metadata": {},
   "outputs": [],
   "source": [
    "# Column-7: TTL"
   ]
  },
  {
   "cell_type": "code",
   "execution_count": 21,
   "metadata": {},
   "outputs": [],
   "source": [
    "ttl = np.array(file['TimeToLive'],dtype=float)\n",
    "norm_ttl = normalize(ttl)"
   ]
  },
  {
   "cell_type": "code",
   "execution_count": null,
   "metadata": {},
   "outputs": [],
   "source": []
  },
  {
   "cell_type": "code",
   "execution_count": 22,
   "metadata": {},
   "outputs": [],
   "source": [
    "# Column-8: TOS"
   ]
  },
  {
   "cell_type": "code",
   "execution_count": 23,
   "metadata": {},
   "outputs": [],
   "source": [
    "x0_ind = file.index[file['TypeOfService']=='0x0 '].tolist()\n",
    "x10_ind = file.index[file['TypeOfService']=='0x10 '].tolist()\n",
    "xc0_ind = file.index[file['TypeOfService']=='0xC0 '].tolist()\n",
    "\n",
    "tos = np.zeros(len(file),dtype=int)\n",
    "\n",
    "tos[x0_ind] = 1\n",
    "tos[x10_ind] = 2\n",
    "tos[xc0_ind] = 3\n"
   ]
  },
  {
   "cell_type": "code",
   "execution_count": null,
   "metadata": {},
   "outputs": [],
   "source": []
  },
  {
   "cell_type": "code",
   "execution_count": 24,
   "metadata": {},
   "outputs": [],
   "source": [
    "# Column-9: Datagram length"
   ]
  },
  {
   "cell_type": "code",
   "execution_count": 25,
   "metadata": {},
   "outputs": [],
   "source": [
    "dgm_len = np.array(file['DataGram Length'],dtype=float)\n",
    "norm_dgm_len = normalize(dgm_len)"
   ]
  },
  {
   "cell_type": "code",
   "execution_count": null,
   "metadata": {},
   "outputs": [],
   "source": []
  },
  {
   "cell_type": "code",
   "execution_count": 33,
   "metadata": {},
   "outputs": [],
   "source": [
    "# Column-10:Flag-A"
   ]
  },
  {
   "cell_type": "code",
   "execution_count": 39,
   "metadata": {},
   "outputs": [],
   "source": [
    "flag_set_ind = file.index[file['Flag-A']=='A'].tolist()\n",
    "flag_a = np.zeros(len(file),dtype=int)\n",
    "flag_a[flag_set_ind] = 1\n",
    "\n",
    "\n",
    "\n",
    "# Column-11:Flag-P\n",
    "flag_set_ind = file.index[file['Flag-P']=='P'].tolist()\n",
    "flag_p = np.zeros(len(file),dtype=int)\n",
    "flag_p[flag_set_ind] = 1\n",
    "\n",
    "\n",
    "\n",
    "# Column-12:Flag-R\n",
    "flag_set_ind = file.index[file['Flag-R']=='R'].tolist()\n",
    "flag_r = np.zeros(len(file),dtype=int)\n",
    "flag_r[flag_set_ind] = 1\n",
    "\n",
    "\n",
    "# Column-13:Flag-S\n",
    "flag_set_ind = file.index[file['Flag-S']=='S'].tolist()\n",
    "flag_s = np.zeros(len(file),dtype=int)\n",
    "flag_s[flag_set_ind] = 1\n",
    "\n",
    "\n",
    "# Column-14:Flag-F\n",
    "flag_set_ind = file.index[file['Flag-F']=='F'].tolist()\n",
    "flag_f = np.zeros(len(file),dtype=int)\n",
    "flag_f[flag_set_ind] = 1"
   ]
  },
  {
   "cell_type": "code",
   "execution_count": null,
   "metadata": {},
   "outputs": [],
   "source": []
  },
  {
   "cell_type": "code",
   "execution_count": 40,
   "metadata": {},
   "outputs": [],
   "source": [
    "# Column-15: Win"
   ]
  },
  {
   "cell_type": "code",
   "execution_count": 75,
   "metadata": {},
   "outputs": [],
   "source": [
    "win = np.zeros(len(file),dtype=int)"
   ]
  },
  {
   "cell_type": "code",
   "execution_count": null,
   "metadata": {},
   "outputs": [],
   "source": []
  },
  {
   "cell_type": "code",
   "execution_count": 41,
   "metadata": {},
   "outputs": [],
   "source": [
    "# Column-16:TCP Length"
   ]
  },
  {
   "cell_type": "code",
   "execution_count": 51,
   "metadata": {},
   "outputs": [],
   "source": [
    "ind20 = file.index[file['TCP length']==20].tolist()\n",
    "ind24 = file.index[file['TCP length']==24].tolist()\n",
    "ind28 = file.index[file['TCP length']==28].tolist()\n",
    "ind32 = file.index[file['TCP length']==32].tolist()\n",
    "ind36 = file.index[file['TCP length']==36].tolist()\n",
    "ind40 = file.index[file['TCP length']==40].tolist()\n",
    "\n",
    "tcp_len = np.zeros(len(file),dtype=int)\n",
    "\n",
    "tcp_len[ind20]=1\n",
    "tcp_len[ind24]=2\n",
    "tcp_len[ind28]=3\n",
    "tcp_len[ind32]=4\n",
    "tcp_len[ind36]=5\n",
    "tcp_len[ind40]=6\n"
   ]
  },
  {
   "cell_type": "code",
   "execution_count": null,
   "metadata": {},
   "outputs": [],
   "source": []
  },
  {
   "cell_type": "code",
   "execution_count": 42,
   "metadata": {},
   "outputs": [],
   "source": [
    "# Column-17:TCP options"
   ]
  },
  {
   "cell_type": "code",
   "execution_count": 82,
   "metadata": {},
   "outputs": [],
   "source": [
    "tcp_opt = file['TCP Options'].fillna(0).tolist()\n",
    "tcp_opt = [round(x) for x in tcp_opt]"
   ]
  },
  {
   "cell_type": "code",
   "execution_count": 91,
   "metadata": {},
   "outputs": [],
   "source": [
    "labels = pd.DataFrame(conn_class,columns=['Class'])\n",
    "col_names = ['Priority','Unix TimeStamp', 'Source port', 'Destination port', 'Protocol','TTL','TOS','Datagram Length','A','P','R','S','F','Win','TCP length','TCP options']\n",
    "dataset = pd.DataFrame(list(zip(priority,norm_timestamp,norm_src_port,norm_dest_port,protocol,norm_ttl,tos,norm_dgm_len,flag_a,flag_p,flag_r,flag_s,flag_f,win,tcp_len,tcp_opt)),columns=col_names)"
   ]
  },
  {
   "cell_type": "code",
   "execution_count": 93,
   "metadata": {},
   "outputs": [],
   "source": [
    "dataset.to_csv(r'Dataset.csv',index=False)\n",
    "labels.to_csv(r'Classes.csv',index=False)"
   ]
  },
  {
   "cell_type": "code",
   "execution_count": null,
   "metadata": {},
   "outputs": [],
   "source": []
  },
  {
   "cell_type": "code",
   "execution_count": null,
   "metadata": {},
   "outputs": [],
   "source": []
  },
  {
   "cell_type": "code",
   "execution_count": null,
   "metadata": {},
   "outputs": [],
   "source": []
  },
  {
   "cell_type": "code",
   "execution_count": 25,
   "metadata": {},
   "outputs": [
    {
     "data": {
      "text/plain": [
       "array([' ', 'Attempted Information Leak ',\n",
       "       'access to a potentially vulnerable web application ',\n",
       "       'Attempted Administrator Privilege Gain ',\n",
       "       'Web Application Attack ', 'Attempted User Privilege Gain ',\n",
       "       'Potentially Bad Traffic ', 'Attempted Denial of Service ',\n",
       "       'Executable code was detected ', 'Misc activity ', 'Misc Attack ',\n",
       "       'Attempt to login by a default username and password ',\n",
       "       'A Network Trojan was detected ',\n",
       "       'Detection of a non-standard protocol or event '], dtype=object)"
      ]
     },
     "execution_count": 25,
     "metadata": {},
     "output_type": "execute_result"
    }
   ],
   "source": [
    "file['Connection Classification'].unique()"
   ]
  },
  {
   "cell_type": "code",
   "execution_count": 32,
   "metadata": {},
   "outputs": [],
   "source": [
    "o = file[file['Connection Classification']=='Executable code was detected ']\n",
    "t = file[file['Connection Classification']=='Web Application Attack ']\n",
    "th = file[file['Connection Classification']=='Attempted Denial of Service ']\n",
    "f = file[file['Connection Classification']=='access to a potentially vulnerable web application ']\n",
    "fv = file[file['Connection Classification']=='Attempted User Privilege Gain ']"
   ]
  },
  {
   "cell_type": "code",
   "execution_count": 37,
   "metadata": {},
   "outputs": [],
   "source": [
    "y = [len(o),len(t),len(th),len(f),len(fv)]\n",
    "x = ['Executable code', 'Web Application Attack','Denial of Service','vulnerable web application','User Privilege Gain']"
   ]
  },
  {
   "cell_type": "code",
   "execution_count": 45,
   "metadata": {},
   "outputs": [
    {
     "data": {
      "text/plain": [
       "Text(0.5, 1.0, 'Number of connections executing 5 attacks within malicious class')"
      ]
     },
     "execution_count": 45,
     "metadata": {},
     "output_type": "execute_result"
    },
    {
     "data": {
      "image/png": "[encoded data removed]",
      "text/plain": [
       "<Figure size 432x288 with 1 Axes>"
      ]
     },
     "metadata": {
      "needs_background": "light"
     },
     "output_type": "display_data"
    }
   ],
   "source": [
    "plt.barh(x,y)\n",
    "plt.title('Number of connections executing 5 attacks within malicious class')"
   ]
  },
  {
   "cell_type": "code",
   "execution_count": null,
   "metadata": {},
   "outputs": [],
   "source": []
  }
 ],
 "metadata": {
  "kernelspec": {
   "display_name": "Python 3",
   "language": "python",
   "name": "python3"
  },
  "language_info": {
   "codemirror_mode": {
    "name": "ipython",
    "version": 3
   },
   "file_extension": ".py",
   "mimetype": "text/x-python",
   "name": "python",
   "nbconvert_exporter": "python",
   "pygments_lexer": "ipython3",
   "version": "3.7.3"
  }
 },
 "nbformat": 4,
 "nbformat_minor": 4
}
