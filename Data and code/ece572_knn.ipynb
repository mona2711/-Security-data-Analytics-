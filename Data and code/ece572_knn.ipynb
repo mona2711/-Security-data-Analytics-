{
  "nbformat": 4,
  "nbformat_minor": 0,
  "metadata": {
    "colab": {
      "name": "ece572.ipynb",
      "provenance": [],
      "collapsed_sections": []
    },
    "kernelspec": {
      "name": "python3",
      "display_name": "Python 3"
    }
  },
  "cells": [
    {
      "cell_type": "code",
      "metadata": {
        "id": "9hj38GtkIGE_",
        "colab_type": "code",
        "colab": {
          "base_uri": "https://localhost:8080/",
          "height": 34
        },
        "outputId": "2d50c66a-6fcd-48c3-9398-6354224d2b65"
      },
      "source": [
        "%autosave 30\n",
        "import numpy as np\n",
        "import pandas as pd\n",
        "from matplotlib import pyplot as plt\n",
        "from sklearn.datasets import load_breast_cancer\n",
        "from sklearn.metrics import confusion_matrix\n",
        "from sklearn.neighbors import KNeighborsClassifier\n",
        "from sklearn.model_selection import train_test_split\n",
        "import seaborn as sns\n",
        "sns.set()"
      ],
      "execution_count": null,
      "outputs": [
        {
          "output_type": "display_data",
          "data": {
            "application/javascript": [
              "IPython.notebook.set_autosave_interval(30000)"
            ]
          },
          "metadata": {
            "tags": []
          }
        },
        {
          "output_type": "stream",
          "text": [
            "Autosaving every 30 seconds\n"
          ],
          "name": "stdout"
        }
      ]
    },
    {
      "cell_type": "code",
      "metadata": {
        "id": "9lABmQznIiKA",
        "colab_type": "code",
        "colab": {
          "base_uri": "https://localhost:8080/",
          "height": 34
        },
        "outputId": "07dedcc9-cf64-4d48-cf10-e724bd1e93cc"
      },
      "source": [
        "from google.colab import drive\n",
        "drive.mount('/content/drive')"
      ],
      "execution_count": null,
      "outputs": [
        {
          "output_type": "stream",
          "text": [
            "Drive already mounted at /content/drive; to attempt to forcibly remount, call drive.mount(\"/content/drive\", force_remount=True).\n"
          ],
          "name": "stdout"
        }
      ]
    },
    {
      "cell_type": "code",
      "metadata": {
        "id": "FHsmc05_InRj",
        "colab_type": "code",
        "colab": {
          "base_uri": "https://localhost:8080/",
          "height": 433
        },
        "outputId": "17ae86b5-736d-4cbd-e256-49b1e3c9cc70"
      },
      "source": [
        "dataset = pd.read_csv('/content/drive/My Drive/Dataset.csv')\n",
        "Classes = pd.read_csv('/content/drive/My Drive/Classes.csv')\n",
        "\n",
        "dataset['classes'] = Classes\n",
        "dataset"
      ],
      "execution_count": null,
      "outputs": [
        {
          "output_type": "execute_result",
          "data": {
            "text/html": [
              "<div>\n",
              "<style scoped>\n",
              "    .dataframe tbody tr th:only-of-type {\n",
              "        vertical-align: middle;\n",
              "    }\n",
              "\n",
              "    .dataframe tbody tr th {\n",
              "        vertical-align: top;\n",
              "    }\n",
              "\n",
              "    .dataframe thead th {\n",
              "        text-align: right;\n",
              "    }\n",
              "</style>\n",
              "<table border=\"1\" class=\"dataframe\">\n",
              "  <thead>\n",
              "    <tr style=\"text-align: right;\">\n",
              "      <th></th>\n",
              "      <th>Priority</th>\n",
              "      <th>Unix TimeStamp</th>\n",
              "      <th>Source port</th>\n",
              "      <th>Destination port</th>\n",
              "      <th>Protocol</th>\n",
              "      <th>TTL</th>\n",
              "      <th>TOS</th>\n",
              "      <th>Datagram Length</th>\n",
              "      <th>A</th>\n",
              "      <th>P</th>\n",
              "      <th>R</th>\n",
              "      <th>S</th>\n",
              "      <th>F</th>\n",
              "      <th>TCP length</th>\n",
              "      <th>TCP options</th>\n",
              "      <th>classes</th>\n",
              "    </tr>\n",
              "  </thead>\n",
              "  <tbody>\n",
              "    <tr>\n",
              "      <th>0</th>\n",
              "      <td>3</td>\n",
              "      <td>-1.000000</td>\n",
              "      <td>0.763490</td>\n",
              "      <td>-0.999237</td>\n",
              "      <td>3</td>\n",
              "      <td>-0.505976</td>\n",
              "      <td>1</td>\n",
              "      <td>-1.000000</td>\n",
              "      <td>0</td>\n",
              "      <td>0</td>\n",
              "      <td>1</td>\n",
              "      <td>0</td>\n",
              "      <td>0</td>\n",
              "      <td>1</td>\n",
              "      <td>0</td>\n",
              "      <td>0</td>\n",
              "    </tr>\n",
              "    <tr>\n",
              "      <th>1</th>\n",
              "      <td>3</td>\n",
              "      <td>-0.999000</td>\n",
              "      <td>-0.999237</td>\n",
              "      <td>0.531834</td>\n",
              "      <td>3</td>\n",
              "      <td>-0.498008</td>\n",
              "      <td>1</td>\n",
              "      <td>-1.000000</td>\n",
              "      <td>0</td>\n",
              "      <td>0</td>\n",
              "      <td>1</td>\n",
              "      <td>0</td>\n",
              "      <td>0</td>\n",
              "      <td>1</td>\n",
              "      <td>0</td>\n",
              "      <td>0</td>\n",
              "    </tr>\n",
              "    <tr>\n",
              "      <th>2</th>\n",
              "      <td>3</td>\n",
              "      <td>-0.999000</td>\n",
              "      <td>-0.999237</td>\n",
              "      <td>0.531834</td>\n",
              "      <td>3</td>\n",
              "      <td>-0.498008</td>\n",
              "      <td>1</td>\n",
              "      <td>-1.000000</td>\n",
              "      <td>0</td>\n",
              "      <td>0</td>\n",
              "      <td>1</td>\n",
              "      <td>0</td>\n",
              "      <td>0</td>\n",
              "      <td>1</td>\n",
              "      <td>0</td>\n",
              "      <td>0</td>\n",
              "    </tr>\n",
              "    <tr>\n",
              "      <th>3</th>\n",
              "      <td>3</td>\n",
              "      <td>-0.998589</td>\n",
              "      <td>-0.997558</td>\n",
              "      <td>0.853368</td>\n",
              "      <td>3</td>\n",
              "      <td>-0.505976</td>\n",
              "      <td>1</td>\n",
              "      <td>-0.993103</td>\n",
              "      <td>1</td>\n",
              "      <td>0</td>\n",
              "      <td>0</td>\n",
              "      <td>0</td>\n",
              "      <td>0</td>\n",
              "      <td>4</td>\n",
              "      <td>3</td>\n",
              "      <td>0</td>\n",
              "    </tr>\n",
              "    <tr>\n",
              "      <th>4</th>\n",
              "      <td>3</td>\n",
              "      <td>-0.998589</td>\n",
              "      <td>-0.997558</td>\n",
              "      <td>0.853368</td>\n",
              "      <td>3</td>\n",
              "      <td>-0.505976</td>\n",
              "      <td>1</td>\n",
              "      <td>-0.761494</td>\n",
              "      <td>1</td>\n",
              "      <td>1</td>\n",
              "      <td>0</td>\n",
              "      <td>0</td>\n",
              "      <td>0</td>\n",
              "      <td>4</td>\n",
              "      <td>3</td>\n",
              "      <td>0</td>\n",
              "    </tr>\n",
              "    <tr>\n",
              "      <th>...</th>\n",
              "      <td>...</td>\n",
              "      <td>...</td>\n",
              "      <td>...</td>\n",
              "      <td>...</td>\n",
              "      <td>...</td>\n",
              "      <td>...</td>\n",
              "      <td>...</td>\n",
              "      <td>...</td>\n",
              "      <td>...</td>\n",
              "      <td>...</td>\n",
              "      <td>...</td>\n",
              "      <td>...</td>\n",
              "      <td>...</td>\n",
              "      <td>...</td>\n",
              "      <td>...</td>\n",
              "      <td>...</td>\n",
              "    </tr>\n",
              "    <tr>\n",
              "      <th>25736</th>\n",
              "      <td>3</td>\n",
              "      <td>0.999651</td>\n",
              "      <td>-0.755339</td>\n",
              "      <td>-0.905359</td>\n",
              "      <td>3</td>\n",
              "      <td>0.003984</td>\n",
              "      <td>1</td>\n",
              "      <td>-0.160920</td>\n",
              "      <td>1</td>\n",
              "      <td>0</td>\n",
              "      <td>0</td>\n",
              "      <td>0</td>\n",
              "      <td>0</td>\n",
              "      <td>1</td>\n",
              "      <td>0</td>\n",
              "      <td>0</td>\n",
              "    </tr>\n",
              "    <tr>\n",
              "      <th>25737</th>\n",
              "      <td>3</td>\n",
              "      <td>0.999654</td>\n",
              "      <td>-0.755339</td>\n",
              "      <td>-0.905329</td>\n",
              "      <td>3</td>\n",
              "      <td>0.003984</td>\n",
              "      <td>1</td>\n",
              "      <td>-0.901149</td>\n",
              "      <td>1</td>\n",
              "      <td>1</td>\n",
              "      <td>0</td>\n",
              "      <td>0</td>\n",
              "      <td>0</td>\n",
              "      <td>1</td>\n",
              "      <td>0</td>\n",
              "      <td>0</td>\n",
              "    </tr>\n",
              "    <tr>\n",
              "      <th>25738</th>\n",
              "      <td>3</td>\n",
              "      <td>0.999655</td>\n",
              "      <td>-0.755339</td>\n",
              "      <td>-0.905298</td>\n",
              "      <td>3</td>\n",
              "      <td>0.003984</td>\n",
              "      <td>1</td>\n",
              "      <td>-0.901149</td>\n",
              "      <td>1</td>\n",
              "      <td>1</td>\n",
              "      <td>0</td>\n",
              "      <td>0</td>\n",
              "      <td>0</td>\n",
              "      <td>1</td>\n",
              "      <td>0</td>\n",
              "      <td>0</td>\n",
              "    </tr>\n",
              "    <tr>\n",
              "      <th>25739</th>\n",
              "      <td>2</td>\n",
              "      <td>0.999823</td>\n",
              "      <td>-1.000000</td>\n",
              "      <td>-1.000000</td>\n",
              "      <td>2</td>\n",
              "      <td>-1.000000</td>\n",
              "      <td>3</td>\n",
              "      <td>-0.989655</td>\n",
              "      <td>0</td>\n",
              "      <td>0</td>\n",
              "      <td>0</td>\n",
              "      <td>0</td>\n",
              "      <td>0</td>\n",
              "      <td>0</td>\n",
              "      <td>0</td>\n",
              "      <td>1</td>\n",
              "    </tr>\n",
              "    <tr>\n",
              "      <th>25740</th>\n",
              "      <td>2</td>\n",
              "      <td>1.000000</td>\n",
              "      <td>-1.000000</td>\n",
              "      <td>-1.000000</td>\n",
              "      <td>2</td>\n",
              "      <td>-1.000000</td>\n",
              "      <td>3</td>\n",
              "      <td>-0.989655</td>\n",
              "      <td>0</td>\n",
              "      <td>0</td>\n",
              "      <td>0</td>\n",
              "      <td>0</td>\n",
              "      <td>0</td>\n",
              "      <td>0</td>\n",
              "      <td>0</td>\n",
              "      <td>1</td>\n",
              "    </tr>\n",
              "  </tbody>\n",
              "</table>\n",
              "<p>25741 rows × 16 columns</p>\n",
              "</div>"
            ],
            "text/plain": [
              "       Priority  Unix TimeStamp  Source port  ...  TCP length  TCP options  classes\n",
              "0             3       -1.000000     0.763490  ...           1            0        0\n",
              "1             3       -0.999000    -0.999237  ...           1            0        0\n",
              "2             3       -0.999000    -0.999237  ...           1            0        0\n",
              "3             3       -0.998589    -0.997558  ...           4            3        0\n",
              "4             3       -0.998589    -0.997558  ...           4            3        0\n",
              "...         ...             ...          ...  ...         ...          ...      ...\n",
              "25736         3        0.999651    -0.755339  ...           1            0        0\n",
              "25737         3        0.999654    -0.755339  ...           1            0        0\n",
              "25738         3        0.999655    -0.755339  ...           1            0        0\n",
              "25739         2        0.999823    -1.000000  ...           0            0        1\n",
              "25740         2        1.000000    -1.000000  ...           0            0        1\n",
              "\n",
              "[25741 rows x 16 columns]"
            ]
          },
          "metadata": {
            "tags": []
          },
          "execution_count": 8
        }
      ]
    },
    {
      "cell_type": "code",
      "metadata": {
        "id": "9h9-kVCZQ2bJ",
        "colab_type": "code",
        "colab": {
          "base_uri": "https://localhost:8080/",
          "height": 381
        },
        "outputId": "a8458534-d27a-448f-c9a0-829ce02fc8d1"
      },
      "source": [
        "print(dataset.columns[:])\n",
        "corr = dataset[dataset.columns[:]].corr()['classes'][:].abs()\n",
        "corr.sort_values(ascending = False)"
      ],
      "execution_count": null,
      "outputs": [
        {
          "output_type": "stream",
          "text": [
            "Index(['Priority', 'Unix TimeStamp', 'Source port', 'Destination port',\n",
            "       'Protocol', 'TTL', 'TOS', 'Datagram Length', 'A', 'P', 'R', 'S', 'F',\n",
            "       'TCP length', 'TCP options', 'classes'],\n",
            "      dtype='object')\n"
          ],
          "name": "stdout"
        },
        {
          "output_type": "execute_result",
          "data": {
            "text/plain": [
              "classes             1.000000\n",
              "Priority            0.862247\n",
              "R                   0.371830\n",
              "Protocol            0.291782\n",
              "Destination port    0.288368\n",
              "A                   0.264573\n",
              "F                   0.215099\n",
              "TOS                 0.212674\n",
              "P                   0.165469\n",
              "Source port         0.159474\n",
              "Unix TimeStamp      0.135101\n",
              "TCP options         0.129982\n",
              "TCP length          0.123938\n",
              "S                   0.031568\n",
              "Datagram Length     0.024056\n",
              "TTL                 0.012675\n",
              "Name: classes, dtype: float64"
            ]
          },
          "metadata": {
            "tags": []
          },
          "execution_count": 10
        }
      ]
    },
    {
      "cell_type": "code",
      "metadata": {
        "id": "Tq6MFZExJ9J7",
        "colab_type": "code",
        "colab": {
          "base_uri": "https://localhost:8080/",
          "height": 72
        },
        "outputId": "c86ca27d-8750-4ed5-fa4f-d7a015ed536a"
      },
      "source": [
        "X = dataset[['Priority','Protocol','Destination port']]\n",
        "y = Classes\n",
        "X_train, X_test, y_train, y_test = train_test_split(X, y, random_state=1)\n",
        "knn = KNeighborsClassifier(n_neighbors=5, metric='euclidean')\n",
        "knn.fit(X_train, y_train)\n",
        "y_pred = knn.predict(X_test)"
      ],
      "execution_count": null,
      "outputs": [
        {
          "output_type": "stream",
          "text": [
            "/usr/local/lib/python3.6/dist-packages/ipykernel_launcher.py:5: DataConversionWarning: A column-vector y was passed when a 1d array was expected. Please change the shape of y to (n_samples, ), for example using ravel().\n",
            "  \"\"\"\n"
          ],
          "name": "stderr"
        }
      ]
    },
    {
      "cell_type": "code",
      "metadata": {
        "id": "3hWK-4t8stky",
        "colab_type": "code",
        "colab": {
          "base_uri": "https://localhost:8080/",
          "height": 301
        },
        "outputId": "7fa793cb-839f-4b2c-90d7-f41cbb24e17d"
      },
      "source": [
        "cf_matrix = confusion_matrix(y_test, y_pred)\n",
        "ax = plt.axes()\n",
        "sns.heatmap(cf_matrix/np.sum(cf_matrix), annot=True,fmt='.1%', cmap='Blues',cbar=False, ax = ax)\n",
        "ax.set_title('Confusion Matrix')"
      ],
      "execution_count": null,
      "outputs": [
        {
          "output_type": "execute_result",
          "data": {
            "text/plain": [
              "Text(0.5, 1.0, 'Confusion Matrix')"
            ]
          },
          "metadata": {
            "tags": []
          },
          "execution_count": 25
        },
        {
          "output_type": "display_data",
          "data": {
            "image/png": "[encoded data removed]",
            "text/plain": [
              "<Figure size 432x288 with 1 Axes>"
            ]
          },
          "metadata": {
            "tags": []
          }
        }
      ]
    },
    {
      "cell_type": "code",
      "metadata": {
        "id": "QcbmLWzxt_gQ",
        "colab_type": "code",
        "colab": {
          "base_uri": "https://localhost:8080/",
          "height": 52
        },
        "outputId": "38cb51d0-1e2a-446f-c92a-407817212a49"
      },
      "source": [
        "cf_matrix"
      ],
      "execution_count": null,
      "outputs": [
        {
          "output_type": "execute_result",
          "data": {
            "text/plain": [
              "array([[1793,    0],\n",
              "       [   0, 4643]])"
            ]
          },
          "metadata": {
            "tags": []
          },
          "execution_count": 26
        }
      ]
    },
    {
      "cell_type": "code",
      "metadata": {
        "id": "aRmFTf3xLW2b",
        "colab_type": "code",
        "colab": {
          "base_uri": "https://localhost:8080/",
          "height": 208
        },
        "outputId": "19bca1dc-2c3a-41c9-99b5-b630d381232e"
      },
      "source": [
        "from sklearn.metrics import classification_report, confusion_matrix\n",
        "print(confusion_matrix(y_test, y_pred))\n",
        "print(classification_report(y_test, y_pred))"
      ],
      "execution_count": null,
      "outputs": [
        {
          "output_type": "stream",
          "text": [
            "[[1793    0]\n",
            " [   0 4643]]\n",
            "              precision    recall  f1-score   support\n",
            "\n",
            "           0       1.00      1.00      1.00      1793\n",
            "           1       1.00      1.00      1.00      4643\n",
            "\n",
            "    accuracy                           1.00      6436\n",
            "   macro avg       1.00      1.00      1.00      6436\n",
            "weighted avg       1.00      1.00      1.00      6436\n",
            "\n"
          ],
          "name": "stdout"
        }
      ]
    },
    {
      "cell_type": "code",
      "metadata": {
        "id": "k9GACu3wUsmd",
        "colab_type": "code",
        "colab": {
          "base_uri": "https://localhost:8080/",
          "height": 301
        },
        "outputId": "f00b02c1-f31a-46ba-b2df-c624779c1914"
      },
      "source": [
        "#data\n",
        "x = dataset['Destination port']\n",
        "y = dataset['TCP options']\n",
        "\n",
        "# Plot\n",
        "plt.scatter(x, y, alpha=0.5)\n",
        "plt.title('Scatter plot')\n",
        "plt.xlabel('x- Destination port')\n",
        "plt.ylabel('y- TCP options')\n",
        "plt.show()\n"
      ],
      "execution_count": null,
      "outputs": [
        {
          "output_type": "display_data",
          "data": {
            "image/png": "[encoded data removed]",
            "text/plain": [
              "<Figure size 432x288 with 1 Axes>"
            ]
          },
          "metadata": {
            "tags": []
          }
        }
      ]
    },
    {
      "cell_type": "code",
      "metadata": {
        "id": "z5NM8P0Agnbq",
        "colab_type": "code",
        "colab": {
          "base_uri": "https://localhost:8080/",
          "height": 520
        },
        "outputId": "437e4f72-df87-46a7-e22f-f6268360fecb"
      },
      "source": [
        "import matplotlib\n",
        "import matplotlib.pyplot as plt\n",
        "import numpy as np\n",
        "\n",
        "x = X_test['Destination port']\n",
        "y = X_test['Priority']\n",
        "label = y_pred\n",
        "colors = ['green','red']\n",
        "\n",
        "fig = plt.figure(figsize=(8,8))\n",
        "plt.scatter(x, y, c=label, cmap=matplotlib.colors.ListedColormap(colors))\n",
        "plt.xlabel('Destination Port')\n",
        "plt.ylabel('Priority')\n"
      ],
      "execution_count": null,
      "outputs": [
        {
          "output_type": "execute_result",
          "data": {
            "text/plain": [
              "Text(0, 0.5, 'Priority')"
            ]
          },
          "metadata": {
            "tags": []
          },
          "execution_count": 28
        },
        {
          "output_type": "display_data",
          "data": {
            "image/png": "[encoded data removed]",
            "text/plain": [
              "<Figure size 576x576 with 1 Axes>"
            ]
          },
          "metadata": {
            "tags": []
          }
        }
      ]
    }
  ]
}